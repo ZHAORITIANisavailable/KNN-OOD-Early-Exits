{
 "cells": [
  {
   "cell_type": "code",
   "execution_count": 1,
   "id": "d18e395e",
   "metadata": {},
   "outputs": [],
   "source": [
    "# necessary imports\n",
    "import torch\n",
    "import os\n",
    "import torch.nn as nn\n",
    "import torch.nn.functional as F\n",
    "import numpy as np\n",
    "from sklearn.metrics import roc_auc_score, precision_recall_curve, auc\n",
    "import torch.optim as optim\n",
    "from torchvision import transforms, datasets, models\n",
    "from torch.utils.data import DataLoader\n",
    "from openood.evaluation_api import Evaluator\n",
    "from openood.networks import ResNet18_32x32"
   ]
  },
  {
   "cell_type": "code",
   "execution_count": 2,
   "id": "8cee6687",
   "metadata": {},
   "outputs": [],
   "source": [
    "import faiss\n",
    "import numpy as np\n",
    "import torch\n",
    "import torch.nn as nn\n",
    "from tqdm import tqdm"
   ]
  },
  {
   "cell_type": "code",
   "execution_count": 4,
   "id": "4cc24b24",
   "metadata": {},
   "outputs": [],
   "source": [
    "imagesize = 32\n",
    "\n",
    "transform_test = transforms.Compose([\n",
    "    transforms.Resize((imagesize, imagesize)),\n",
    "    transforms.CenterCrop(imagesize),\n",
    "    transforms.ToTensor(),\n",
    "    transforms.Normalize((0.4914, 0.4822, 0.4465),\n",
    "                         (0.2023, 0.1994, 0.2010)),\n",
    "    # transforms.Normalize([x/255.0 for x in [125.3, 123.0, 113.9]],\n",
    "    #                     [x/255.0 for x in [63.0, 62.1, 66.7]]),\n",
    "])\n",
    "\n",
    "transform_train = transforms.Compose([\n",
    "    # transforms.RandomCrop(imagesize, padding=4),\n",
    "    transforms.RandomResizedCrop(size=imagesize, scale=(0.2, 1.)),\n",
    "    transforms.RandomHorizontalFlip(),\n",
    "    transforms.ToTensor(),\n",
    "    transforms.Normalize((0.4914, 0.4822, 0.4465),\n",
    "                         (0.2023, 0.1994, 0.2010)),\n",
    "    # transforms.Normalize([x / 255.0 for x in [125.3, 123.0, 113.9]],\n",
    "    #                      [x / 255.0 for x in [63.0, 62.1, 66.7]]),\n",
    "])"
   ]
  },
  {
   "cell_type": "code",
   "execution_count": 5,
   "id": "52f9811c",
   "metadata": {},
   "outputs": [],
   "source": [
    "train_dir10 = './data/images_classic/cifar10/cifar10/train'\n",
    "test_dir10 = './data/images_classic/cifar10/cifar10/test'\n",
    "train_dir100 = './data/images_classic/cifar100/cifar100/train'\n",
    "test_dir100 = './data/images_classic/cifar100/cifar100/test'"
   ]
  },
  {
   "cell_type": "code",
   "execution_count": 12,
   "id": "071e8915",
   "metadata": {},
   "outputs": [
    {
     "name": "stderr",
     "output_type": "stream",
     "text": [
      "C:\\Users\\Zhao\\AppData\\Local\\Temp\\ipykernel_18368\\1368810468.py:3: FutureWarning: You are using `torch.load` with `weights_only=False` (the current default value), which uses the default pickle module implicitly. It is possible to construct malicious pickle data which will execute arbitrary code during unpickling (See https://github.com/pytorch/pytorch/blob/main/SECURITY.md#untrusted-models for more details). In a future release, the default value for `weights_only` will be flipped to `True`. This limits the functions that could be executed during unpickling. Arbitrary objects will no longer be allowed to be loaded via this mode unless they are explicitly allowlisted by the user via `torch.serialization.add_safe_globals`. We recommend you start setting `weights_only=True` for any use case where you don't have full control of the loaded file. Please open an issue on GitHub for any issues related to this experimental feature.\n",
      "  torch.load('./results/cifar10_resnet18_32x32_base_e100_lr0.1_default/s0/best.ckpt')\n"
     ]
    },
    {
     "data": {
      "text/plain": [
       "ResNet18_32x32(\n",
       "  (conv1): Conv2d(3, 64, kernel_size=(3, 3), stride=(1, 1), padding=(1, 1), bias=False)\n",
       "  (bn1): BatchNorm2d(64, eps=1e-05, momentum=0.1, affine=True, track_running_stats=True)\n",
       "  (layer1): Sequential(\n",
       "    (0): BasicBlock(\n",
       "      (conv1): Conv2d(64, 64, kernel_size=(3, 3), stride=(1, 1), padding=(1, 1), bias=False)\n",
       "      (bn1): BatchNorm2d(64, eps=1e-05, momentum=0.1, affine=True, track_running_stats=True)\n",
       "      (conv2): Conv2d(64, 64, kernel_size=(3, 3), stride=(1, 1), padding=(1, 1), bias=False)\n",
       "      (bn2): BatchNorm2d(64, eps=1e-05, momentum=0.1, affine=True, track_running_stats=True)\n",
       "      (shortcut): Sequential()\n",
       "    )\n",
       "    (1): BasicBlock(\n",
       "      (conv1): Conv2d(64, 64, kernel_size=(3, 3), stride=(1, 1), padding=(1, 1), bias=False)\n",
       "      (bn1): BatchNorm2d(64, eps=1e-05, momentum=0.1, affine=True, track_running_stats=True)\n",
       "      (conv2): Conv2d(64, 64, kernel_size=(3, 3), stride=(1, 1), padding=(1, 1), bias=False)\n",
       "      (bn2): BatchNorm2d(64, eps=1e-05, momentum=0.1, affine=True, track_running_stats=True)\n",
       "      (shortcut): Sequential()\n",
       "    )\n",
       "  )\n",
       "  (layer2): Sequential(\n",
       "    (0): BasicBlock(\n",
       "      (conv1): Conv2d(64, 128, kernel_size=(3, 3), stride=(2, 2), padding=(1, 1), bias=False)\n",
       "      (bn1): BatchNorm2d(128, eps=1e-05, momentum=0.1, affine=True, track_running_stats=True)\n",
       "      (conv2): Conv2d(128, 128, kernel_size=(3, 3), stride=(1, 1), padding=(1, 1), bias=False)\n",
       "      (bn2): BatchNorm2d(128, eps=1e-05, momentum=0.1, affine=True, track_running_stats=True)\n",
       "      (shortcut): Sequential(\n",
       "        (0): Conv2d(64, 128, kernel_size=(1, 1), stride=(2, 2), bias=False)\n",
       "        (1): BatchNorm2d(128, eps=1e-05, momentum=0.1, affine=True, track_running_stats=True)\n",
       "      )\n",
       "    )\n",
       "    (1): BasicBlock(\n",
       "      (conv1): Conv2d(128, 128, kernel_size=(3, 3), stride=(1, 1), padding=(1, 1), bias=False)\n",
       "      (bn1): BatchNorm2d(128, eps=1e-05, momentum=0.1, affine=True, track_running_stats=True)\n",
       "      (conv2): Conv2d(128, 128, kernel_size=(3, 3), stride=(1, 1), padding=(1, 1), bias=False)\n",
       "      (bn2): BatchNorm2d(128, eps=1e-05, momentum=0.1, affine=True, track_running_stats=True)\n",
       "      (shortcut): Sequential()\n",
       "    )\n",
       "  )\n",
       "  (layer3): Sequential(\n",
       "    (0): BasicBlock(\n",
       "      (conv1): Conv2d(128, 256, kernel_size=(3, 3), stride=(2, 2), padding=(1, 1), bias=False)\n",
       "      (bn1): BatchNorm2d(256, eps=1e-05, momentum=0.1, affine=True, track_running_stats=True)\n",
       "      (conv2): Conv2d(256, 256, kernel_size=(3, 3), stride=(1, 1), padding=(1, 1), bias=False)\n",
       "      (bn2): BatchNorm2d(256, eps=1e-05, momentum=0.1, affine=True, track_running_stats=True)\n",
       "      (shortcut): Sequential(\n",
       "        (0): Conv2d(128, 256, kernel_size=(1, 1), stride=(2, 2), bias=False)\n",
       "        (1): BatchNorm2d(256, eps=1e-05, momentum=0.1, affine=True, track_running_stats=True)\n",
       "      )\n",
       "    )\n",
       "    (1): BasicBlock(\n",
       "      (conv1): Conv2d(256, 256, kernel_size=(3, 3), stride=(1, 1), padding=(1, 1), bias=False)\n",
       "      (bn1): BatchNorm2d(256, eps=1e-05, momentum=0.1, affine=True, track_running_stats=True)\n",
       "      (conv2): Conv2d(256, 256, kernel_size=(3, 3), stride=(1, 1), padding=(1, 1), bias=False)\n",
       "      (bn2): BatchNorm2d(256, eps=1e-05, momentum=0.1, affine=True, track_running_stats=True)\n",
       "      (shortcut): Sequential()\n",
       "    )\n",
       "  )\n",
       "  (layer4): Sequential(\n",
       "    (0): BasicBlock(\n",
       "      (conv1): Conv2d(256, 512, kernel_size=(3, 3), stride=(2, 2), padding=(1, 1), bias=False)\n",
       "      (bn1): BatchNorm2d(512, eps=1e-05, momentum=0.1, affine=True, track_running_stats=True)\n",
       "      (conv2): Conv2d(512, 512, kernel_size=(3, 3), stride=(1, 1), padding=(1, 1), bias=False)\n",
       "      (bn2): BatchNorm2d(512, eps=1e-05, momentum=0.1, affine=True, track_running_stats=True)\n",
       "      (shortcut): Sequential(\n",
       "        (0): Conv2d(256, 512, kernel_size=(1, 1), stride=(2, 2), bias=False)\n",
       "        (1): BatchNorm2d(512, eps=1e-05, momentum=0.1, affine=True, track_running_stats=True)\n",
       "      )\n",
       "    )\n",
       "    (1): BasicBlock(\n",
       "      (conv1): Conv2d(512, 512, kernel_size=(3, 3), stride=(1, 1), padding=(1, 1), bias=False)\n",
       "      (bn1): BatchNorm2d(512, eps=1e-05, momentum=0.1, affine=True, track_running_stats=True)\n",
       "      (conv2): Conv2d(512, 512, kernel_size=(3, 3), stride=(1, 1), padding=(1, 1), bias=False)\n",
       "      (bn2): BatchNorm2d(512, eps=1e-05, momentum=0.1, affine=True, track_running_stats=True)\n",
       "      (shortcut): Sequential()\n",
       "    )\n",
       "  )\n",
       "  (avgpool): AdaptiveAvgPool2d(output_size=1)\n",
       "  (fc): Linear(in_features=512, out_features=10, bias=True)\n",
       ")"
      ]
     },
     "execution_count": 12,
     "metadata": {},
     "output_type": "execute_result"
    }
   ],
   "source": [
    "net = ResNet18_32x32(num_classes=10)\n",
    "net.load_state_dict(\n",
    "    torch.load('./results/cifar10_resnet18_32x32_base_e100_lr0.1_default/s0/best.ckpt')\n",
    ")\n",
    "net.cuda()\n",
    "net.eval()"
   ]
  },
  {
   "cell_type": "code",
   "execution_count": 6,
   "id": "5b9fbbee",
   "metadata": {},
   "outputs": [],
   "source": [
    "transform_cifar10 = transforms.Compose([\n",
    "    transforms.ToTensor(),\n",
    "    transforms.Normalize([0.4914, 0.4822, 0.4465], [0.2470, 0.2435, 0.2616]),\n",
    "])\n",
    "transform_cifar100 = transforms.Compose([\n",
    "    transforms.ToTensor(),\n",
    "    transforms.Normalize([0.5071, 0.4867, 0.4408], [0.2675, 0.2565, 0.2761]),\n",
    "])"
   ]
  },
  {
   "cell_type": "code",
   "execution_count": 9,
   "id": "9d8f0768",
   "metadata": {},
   "outputs": [],
   "source": [
    "datasets10 = {\n",
    "    'train': datasets.ImageFolder(train_dir10, transform=transform_cifar10),\n",
    "    'test': datasets.ImageFolder(test_dir10, transform=transform_cifar10)\n",
    "}\n",
    "datasets100 = {\n",
    "    'train': datasets.ImageFolder(train_dir100, transform=transform_cifar100),\n",
    "    'test': datasets.ImageFolder(test_dir100, transform=transform_cifar100)\n",
    "}\n",
    "dataloaders10 = {\n",
    "    'train': DataLoader(datasets10['train'], batch_size=64, shuffle=True, num_workers=4),\n",
    "    'test': DataLoader(datasets10['test'], batch_size=64, shuffle=False, num_workers=4)\n",
    "}\n",
    "dataloaders100 = {\n",
    "    'train': DataLoader(datasets100['train'], batch_size=64, shuffle=True, num_workers=4),\n",
    "    'test': DataLoader(datasets100['test'], batch_size=64, shuffle=False, num_workers=4)\n",
    "}"
   ]
  },
  {
   "cell_type": "code",
   "execution_count": 10,
   "id": "071f3118",
   "metadata": {},
   "outputs": [],
   "source": [
    "dataloaders10 = {\n",
    "    'train': DataLoader(datasets10['train'], batch_size=64, shuffle=True, num_workers=2),\n",
    "    'test': DataLoader(datasets10['test'], batch_size=64, shuffle=False, num_workers=2)\n",
    "}\n",
    "dataloaders100 = {\n",
    "    'train': DataLoader(datasets100['train'], batch_size=64, shuffle=True, num_workers=2),\n",
    "    'test': DataLoader(datasets100['test'], batch_size=64, shuffle=False, num_workers=2)\n",
    "}"
   ]
  },
  {
   "cell_type": "code",
   "execution_count": null,
   "id": "263684b7",
   "metadata": {},
   "outputs": [],
   "source": []
  },
  {
   "cell_type": "code",
   "execution_count": null,
   "id": "08124f48",
   "metadata": {},
   "outputs": [],
   "source": []
  },
  {
   "cell_type": "markdown",
   "id": "2c28a436",
   "metadata": {},
   "source": [
    "## feat_extract"
   ]
  },
  {
   "cell_type": "code",
   "execution_count": 19,
   "id": "3c26adf6",
   "metadata": {},
   "outputs": [],
   "source": [
    "torch.manual_seed(1)\n",
    "torch.cuda.manual_seed(1)\n",
    "np.random.seed(1)\n",
    "device = 'cuda' "
   ]
  },
  {
   "cell_type": "code",
   "execution_count": 20,
   "id": "ef1bf060",
   "metadata": {},
   "outputs": [],
   "source": [
    "batch_size = 64"
   ]
  },
  {
   "cell_type": "code",
   "execution_count": 21,
   "id": "69c49f2a",
   "metadata": {},
   "outputs": [],
   "source": [
    "FORCE_RUN = False"
   ]
  },
  {
   "cell_type": "code",
   "execution_count": 22,
   "id": "4f72e0eb",
   "metadata": {},
   "outputs": [],
   "source": [
    "# Normalizer function to ensure unit norm\n",
    "normalizer = lambda x: x / np.linalg.norm(x, axis=-1, keepdims=True) + 1e-10"
   ]
  },
  {
   "cell_type": "code",
   "execution_count": 83,
   "id": "0b30da6e",
   "metadata": {},
   "outputs": [],
   "source": [
    "class KNNPostprocessor():\n",
    "    def __init__(self, K):\n",
    "        self.K = K\n",
    "        self.activation_log = None\n",
    "\n",
    "    def setup(self, net: nn.Module, id_loader_dict, ood_loader_dict):\n",
    "            activation_log = []\n",
    "            net.eval()\n",
    "            with torch.no_grad():\n",
    "                for batch in tqdm(id_loader_dict['train'],\n",
    "                                  desc='Setup: ',\n",
    "                                  position=0,\n",
    "                                  leave=True):\n",
    "                    data = batch[0].cuda()\n",
    "                    data = data.float()\n",
    "\n",
    "                    _, feature = net(data, return_feature=True)\n",
    "                    activation_log.append(\n",
    "                        normalizer(feature.data.cpu().numpy()))\n",
    "\n",
    "            self.activation_log = np.concatenate(activation_log, axis=0)\n",
    "            self.index = faiss.IndexFlatL2(feature.shape[1])\n",
    "            self.index.add(self.activation_log)\n",
    "    '''    def postprocess(self, net: nn.Module, data):\n",
    "        output, feature = net(data, return_feature=True)\n",
    "        feature_normed = normalizer(feature.data.cpu().numpy())\n",
    "        D, _ = self.index.search(\n",
    "            feature_normed,\n",
    "            self.K,\n",
    "        )\n",
    "        kth_dist = -D[:, -1]\n",
    "        _, pred = torch.max(torch.softmax(output, dim=1), dim=1)\n",
    "        return pred, torch.from_numpy(kth_dist)'''\n",
    "    def detect_ood(self, net: nn.Module, ood_loader):\n",
    "        \"\"\"\n",
    "        Perform KNN-based OOD detection by computing distances to the nearest neighbors.\n",
    "        \n",
    "        Args:\n",
    "        - net (nn.Module): The neural network model used for feature extraction.\n",
    "        - ood_loader (DataLoader): DataLoader for the out-of-distribution (OOD) dataset (test data).\n",
    "\n",
    "        Returns:\n",
    "        - scores (torch.Tensor): OOD scores based on K-th nearest neighbor distances.\n",
    "        \"\"\"\n",
    "        ood_scores = []\n",
    "        net.eval()\n",
    "\n",
    "        # Extract features for OOD samples and compute distances to nearest neighbors\n",
    "        for batch in tqdm(ood_loader, desc='Processing OOD data', position=0, leave=True):\n",
    "            data = batch[0].cuda()  # Get the input data and move to GPU\n",
    "            _, feature = net(data, return_feature=True)  # Extract features\n",
    "\n",
    "            # Normalize the features\n",
    "            feature_normed = normalizer(feature.data.cpu().numpy())\n",
    "\n",
    "            # Search K nearest neighbors and get distances\n",
    "            D, _ = self.index.search(feature_normed, self.K)\n",
    "            \n",
    "            # Use the K-th distance as the OOD score\n",
    "            kth_dist = -D[:, -1]  # Negative distance for consistency with OOD scoring\n",
    "            ood_scores.append(torch.from_numpy(kth_dist))\n",
    "\n",
    "        # Concatenate all OOD scores\n",
    "        ood_scores = torch.cat(ood_scores, dim=0)\n",
    "        return ood_scores\n",
    "    def evaluate(self, id_loader, ood_loader, net):\n",
    "        \"\"\"\n",
    "        Evaluate OOD detection performance by comparing ID and OOD samples.\n",
    "        \n",
    "        Args:\n",
    "        - id_loader (DataLoader): DataLoader for the in-distribution dataset (test data).\n",
    "        - ood_loader (DataLoader): DataLoader for the out-of-distribution dataset (test data).\n",
    "        - net (nn.Module): The neural network model used for feature extraction.\n",
    "\n",
    "        Returns:\n",
    "        - fpr_at_95_tpr (float): False positive rate at 95% true positive rate.\n",
    "        \"\"\"\n",
    "        # Extract ID and OOD features\n",
    "        self.id_scores = self.detect_ood(net, id_loader)\n",
    "        self.ood_scores = self.detect_ood(net, ood_loader)\n",
    "\n",
    "        # Calculate FPR at 95% TPR\n",
    "        fpr_at_95_tpr = self.calculate_fpr_at_95_tpr(self.id_scores, self.ood_scores)\n",
    "        return fpr_at_95_tpr\n",
    "    def calculate_fpr_at_95_tpr(self,id_scores, ood_scores):\n",
    "        \"\"\"\n",
    "        Calculate FPR at 95% TPR for OOD detection.\n",
    "\n",
    "        Args:\n",
    "        - id_scores (torch.Tensor): Scores for in-distribution samples.\n",
    "        - ood_scores (torch.Tensor): Scores for out-of-distribution samples.\n",
    "\n",
    "        Returns:\n",
    "        - fpr_at_95_tpr (float): False positive rate at 95% true positive rate.\n",
    "        \"\"\"\n",
    "        labels = np.concatenate([np.zeros_like(id_scores), np.ones_like(ood_scores)])\n",
    "        scores = np.concatenate([id_scores, ood_scores])\n",
    "\n",
    "        # Sort scores and labels based on the score threshold\n",
    "        sorted_indices = np.argsort(scores)\n",
    "        sorted_labels = labels[sorted_indices]\n",
    "\n",
    "        # Calculate TPR and FPR\n",
    "        tpr = np.cumsum(sorted_labels) / np.sum(sorted_labels)\n",
    "        fpr = np.cumsum(1 - sorted_labels) / np.sum(1 - sorted_labels)\n",
    "\n",
    "        # Find FPR where TPR is closest to 95%\n",
    "        idx = np.searchsorted(tpr, 0.95)\n",
    "        fpr_at_95_tpr = fpr[idx]\n",
    "        return fpr_at_95_tpr"
   ]
  },
  {
   "cell_type": "code",
   "execution_count": 84,
   "id": "923833fb",
   "metadata": {},
   "outputs": [],
   "source": [
    "k50 = KNNPostprocessor(50)"
   ]
  },
  {
   "cell_type": "code",
   "execution_count": 85,
   "id": "d1bcade1",
   "metadata": {},
   "outputs": [
    {
     "name": "stderr",
     "output_type": "stream",
     "text": [
      "Setup: 100%|█████████████████████████████████████████████████████████████████████████| 782/782 [00:12<00:00, 64.35it/s]\n",
      "Processing OOD data: 100%|███████████████████████████████████████████████████████████| 157/157 [02:58<00:00,  1.14s/it]\n",
      "Processing OOD data: 100%|███████████████████████████████████████████████████████████| 157/157 [02:56<00:00,  1.13s/it]"
     ]
    },
    {
     "name": "stdout",
     "output_type": "stream",
     "text": [
      "FPR at 95% TPR: 0.3795\n"
     ]
    },
    {
     "name": "stderr",
     "output_type": "stream",
     "text": [
      "\n"
     ]
    }
   ],
   "source": [
    "\n",
    "# Setup Faiss index with in-distribution training data\n",
    "k50.setup(net, dataloaders10,dataloaders100 )\n",
    "# Evaluate OOD detection performance\n",
    "fpr_at_95_tpr = k50.evaluate(dataloaders10['test'], dataloaders100['test'], net)\n",
    "print(f\"FPR at 95% TPR: {fpr_at_95_tpr:.4f}\")"
   ]
  },
  {
   "cell_type": "code",
   "execution_count": 65,
   "id": "5f6066cf",
   "metadata": {},
   "outputs": [],
   "source": [
    "def calculate_fpr_at_95_tpr(id_scores, ood_scores):\n",
    "    \"\"\"\n",
    "    Calculate FPR@95TPR.\n",
    "    \n",
    "    Args:\n",
    "        id_scores (list): Distance scores for in-distribution data.\n",
    "        ood_scores (list): Distance scores for out-of-distribution data.\n",
    "    \n",
    "    Returns:\n",
    "        fpr_at_95_tpr (float): False Positive Rate at 95% True Positive Rate.\n",
    "    \"\"\"\n",
    "    # Create labels for ID (1) and OOD (0)\n",
    "    labels = np.concatenate([np.ones(len(id_scores)), np.zeros(len(ood_scores))])\n",
    "\n",
    "    # Concatenate the scores (distances)\n",
    "    scores = np.concatenate([id_scores, ood_scores])\n",
    "\n",
    "    # Compute the false positive rate (FPR), true positive rate (TPR), and thresholds\n",
    "    fpr, tpr, thresholds = roc_curve(labels, -scores)  # Negative scores because smaller distances = higher confidence\n",
    "\n",
    "    # Find the threshold where TPR is closest to 95%\n",
    "    index_95_tpr = np.where(tpr >= 0.95)[0][0]\n",
    "\n",
    "    # FPR at the threshold where TPR is 95%\n",
    "    fpr_at_95_tpr = fpr[index_95_tpr]\n",
    "\n",
    "    return fpr_at_95_tpr"
   ]
  },
  {
   "cell_type": "code",
   "execution_count": 62,
   "id": "5f865645",
   "metadata": {},
   "outputs": [
    {
     "data": {
      "text/plain": [
       "(tensor([-0.0368, -0.0746, -0.0197,  ..., -0.0132, -0.0180, -0.0111]),\n",
       " tensor([-0.4240, -0.2318, -0.2776,  ..., -0.3427, -0.0591, -0.0288]))"
      ]
     },
     "execution_count": 62,
     "metadata": {},
     "output_type": "execute_result"
    }
   ],
   "source": [
    "k50.id_scores,k50.ood_scores"
   ]
  },
  {
   "cell_type": "code",
   "execution_count": 71,
   "id": "d06e1f0a",
   "metadata": {},
   "outputs": [],
   "source": [
    "id_mean = k50.id_scores.mean().item()\n",
    "ood_mean = k50.ood_scores.mean().item()"
   ]
  },
  {
   "cell_type": "code",
   "execution_count": 72,
   "id": "7697468c",
   "metadata": {},
   "outputs": [
    {
     "data": {
      "text/plain": [
       "(-0.19349592924118042, -0.049229297786951065)"
      ]
     },
     "execution_count": 72,
     "metadata": {},
     "output_type": "execute_result"
    }
   ],
   "source": [
    "ood_mean,id_mean"
   ]
  },
  {
   "cell_type": "code",
   "execution_count": 67,
   "id": "a28f0c9f",
   "metadata": {},
   "outputs": [],
   "source": [
    "from sklearn.metrics import roc_curve"
   ]
  },
  {
   "cell_type": "code",
   "execution_count": 75,
   "id": "97d49383",
   "metadata": {},
   "outputs": [
    {
     "data": {
      "image/png": "[encoded data removed]",
      "text/plain": [
       "<Figure size 640x480 with 1 Axes>"
      ]
     },
     "metadata": {},
     "output_type": "display_data"
    }
   ],
   "source": [
    "import matplotlib.pyplot as plt\n",
    "\n",
    "# Convert to NumPy arrays if in PyTorch tensor format\n",
    "id_scores_np = k50.id_scores.cpu().numpy() if isinstance(k50.id_scores, torch.Tensor) else id_scores\n",
    "ood_scores_np = k50.ood_scores.cpu().numpy() if isinstance(k50.ood_scores, torch.Tensor) else ood_scores\n",
    "\n",
    "plt.hist(id_scores_np, bins=50, alpha=0.5, label='ID Scores')\n",
    "plt.hist(ood_scores_np, bins=50, alpha=0.5, label='OOD Scores')\n",
    "plt.xlabel('Scores')\n",
    "plt.ylabel('Frequency')\n",
    "plt.legend()\n",
    "plt.title('ID vs OOD Score Distribution')\n",
    "plt.show()"
   ]
  },
  {
   "cell_type": "code",
   "execution_count": 82,
   "id": "729a3c3e",
   "metadata": {},
   "outputs": [
    {
     "data": {
      "image/png": "[encoded data removed]",
      "text/plain": [
       "<Figure size 640x480 with 1 Axes>"
      ]
     },
     "metadata": {},
     "output_type": "display_data"
    }
   ],
   "source": [
    "import matplotlib.pyplot as plt\n",
    "\n",
    "labels = np.concatenate([np.zeros(len(k50.id_scores)), np.ones(len(k50.ood_scores))])\n",
    "scores = np.concatenate([k50.id_scores, k50.ood_scores])\n",
    "\n",
    "fpr, tpr, thresholds = roc_curve(labels, -scores)\n",
    "plt.plot(fpr, tpr, label='ROC Curve')\n",
    "plt.axhline(0.95, color='red', linestyle='--', label='95% TPR')\n",
    "plt.xlabel('False Positive Rate (FPR)')\n",
    "plt.ylabel('True Positive Rate (TPR)')\n",
    "plt.legend()\n",
    "plt.title('ROC Curve for OOD Detection')\n",
    "plt.show()"
   ]
  },
  {
   "cell_type": "code",
   "execution_count": 86,
   "id": "bdf6a0c0",
   "metadata": {},
   "outputs": [
    {
     "name": "stderr",
     "output_type": "stream",
     "text": [
      "Setup: 100%|█████████████████████████████████████████████████████████████████████████| 782/782 [00:12<00:00, 63.89it/s]\n",
      "Processing OOD data: 100%|███████████████████████████████████████████████████████████| 157/157 [02:54<00:00,  1.11s/it]\n",
      "Processing OOD data: 100%|███████████████████████████████████████████████████████████| 157/157 [02:56<00:00,  1.12s/it]"
     ]
    },
    {
     "name": "stdout",
     "output_type": "stream",
     "text": [
      "FPR at 95% TPR: 0.3828\n"
     ]
    },
    {
     "name": "stderr",
     "output_type": "stream",
     "text": [
      "\n"
     ]
    }
   ],
   "source": [
    "k10 = KNNPostprocessor(10)\n",
    "# Setup Faiss index with in-distribution training data\n",
    "k10.setup(net, dataloaders10,dataloaders100 )\n",
    "# Evaluate OOD detection performance\n",
    "fpr_at_95_tpr = k10.evaluate(dataloaders10['test'], dataloaders100['test'], net)\n",
    "print(f\"FPR at 95% TPR: {fpr_at_95_tpr:.4f}\")"
   ]
  },
  {
   "cell_type": "code",
   "execution_count": null,
   "id": "764df67c",
   "metadata": {},
   "outputs": [
    {
     "name": "stderr",
     "output_type": "stream",
     "text": [
      "Setup: 100%|█████████████████████████████████████████████████████████████████████████| 782/782 [00:10<00:00, 71.38it/s]\n",
      "Processing OOD data: 100%|███████████████████████████████████████████████████████████| 157/157 [02:55<00:00,  1.12s/it]\n",
      "Processing OOD data:  69%|████████████████████████████████████████▌                  | 108/157 [02:02<00:55,  1.14s/it]"
     ]
    }
   ],
   "source": [
    "k100 = KNNPostprocessor(10)\n",
    "# Setup Faiss index with in-distribution training data\n",
    "k100.setup(net, dataloaders10,dataloaders100 )\n",
    "# Evaluate OOD detection performance\n",
    "fpr_at_95_tpr = k100.evaluate(dataloaders10['test'], dataloaders100['test'], net)\n",
    "print(f\"FPR at 95% TPR: {fpr_at_95_tpr:.4f}\")"
   ]
  },
  {
   "cell_type": "code",
   "execution_count": null,
   "id": "f98504bd",
   "metadata": {},
   "outputs": [],
   "source": []
  }
 ],
 "metadata": {
  "kernelspec": {
   "display_name": "Openood",
   "language": "python",
   "name": "openood"
  },
  "language_info": {
   "codemirror_mode": {
    "name": "ipython",
    "version": 3
   },
   "file_extension": ".py",
   "mimetype": "text/x-python",
   "name": "python",
   "nbconvert_exporter": "python",
   "pygments_lexer": "ipython3",
   "version": "3.10.14"
  }
 },
 "nbformat": 4,
 "nbformat_minor": 5
}
